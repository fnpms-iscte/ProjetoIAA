{
 "cells": [
  {
   "cell_type": "code",
   "execution_count": null,
   "id": "ac8a133e",
   "metadata": {},
   "outputs": [],
   "source": [
    "jasdjasd\n",
    "\n"
   ]
  },
  {
   "cell_type": "markdown",
   "id": "27e4df0f-243a-4335-8259-89e63b167e9b",
   "metadata": {},
   "source": [
    "# SKR\n"
   ]
  },
  {
   "cell_type": "code",
   "execution_count": null,
   "id": "2a786caa-51a8-409e-a19d-d0bca7fc098e",
   "metadata": {},
   "outputs": [],
   "source": []
  }
 ],
 "metadata": {
  "kernelspec": {
   "display_name": "Python 3 (ipykernel)",
   "language": "python",
   "name": "python3"
  },
  "language_info": {
   "codemirror_mode": {
    "name": "ipython",
    "version": 3
   },
   "file_extension": ".py",
   "mimetype": "text/x-python",
   "name": "python",
   "nbconvert_exporter": "python",
   "pygments_lexer": "ipython3",
   "version": "3.9.1"
  }
 },
 "nbformat": 4,
 "nbformat_minor": 5
}
