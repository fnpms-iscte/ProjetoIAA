{
 "cells": [
  {
   "cell_type": "markdown",
   "id": "27e4df0f-243a-4335-8259-89e63b167e9b",
   "metadata": {},
   "source": [
    "# Code\n"
   ]
  },
  {
   "cell_type": "code",
   "execution_count": 45,
   "id": "ac8a133e",
   "metadata": {},
   "outputs": [],
   "source": [
    "import math \n",
    "import pandas as pd\n",
    "import numpy as np\n",
    "import operator\n",
    "import matplotlib.pyplot as plt\n",
    "import statistics\n",
    "import timeit\n",
    "import random\n",
    "from sklearn.metrics import accuracy_score\n",
    "from sklearn.model_selection import train_test_split\n",
    "from sklearn.tree import DecisionTreeClassifier\n",
    "import sklearn\n",
    "\n",
    "\n",
    "class Wine:\n",
    "#self.headers = ['fixed acidity', 'volatile acidity', 'citric acid', 'residual sugar', 'chlorides', 'free sulfur dioxide', 'total sulfur dioxide',\n",
    "                        #'density','pH','sulphates','alcohol','quality']\n",
    "    def __init__(self, data):\n",
    "        self.fixed_acidity = data[0]\n",
    "        self.volatile_acidity = data[1]\n",
    "        self.citric_acid = data[2]\n",
    "        self.residual_sugar = data[3]\n",
    "        self.chlorides = data[4]\n",
    "        self.free_sulfur_dioxide = data[5]\n",
    "        self.total_sulfur_dioxide = data[6]\n",
    "        self.density = data[7]\n",
    "        self.pH = data[8]\n",
    "        self.sulphates = data[9]\n",
    "        self.alcohol = data[10]\n",
    "        self.quality = None\n",
    "        \n",
    "        \n",
    "    def getQuality(self):\n",
    "        if self.quality in [0, 1, 2]:\n",
    "            return \"Mau\"\n",
    "        elif self.quality in [3, 4, 5]:\n",
    "            return \"Medio\"\n",
    "        elif self.quality in [6, 7, 8]:\n",
    "            return \"Bom\"\n",
    "        elif self.quality in [9, 10]:\n",
    "            return \"Excelente\"\n",
    "        \n",
    "class Main:  \n",
    "    \n",
    "    def __init__(self):\n",
    "        self.datasetW = None\n",
    "        self.datasetR = None\n",
    "        self.RedArray = []\n",
    "        self.WhiteArray = []\n",
    "        \n",
    "    def loadfiles(self, fileR, fileW):\n",
    "        self.datasetW = pd.read_csv(fileW, sep = ';').to_numpy()\n",
    "        self.datasetR = pd.read_csv(fileR, sep = ';').to_numpy()\n",
    "        \n",
    "    def loadWines(self):\n",
    "        \n",
    "         for i in range(len(self.datasetW)): \n",
    "            w = Wine(self.datasetW.iloc[i])\n",
    "            self.WhiteArray.append(w)\n",
    "        \n",
    "         for i in range(len(self.datasetR)): \n",
    "            r = Wine(self.datasetR.iloc[i])\n",
    "            self.RedArray.append(r)"
   ]
  },
  {
   "cell_type": "markdown",
   "id": "6eb4091d",
   "metadata": {},
   "source": [
    "### Supervised Learning Algorithms"
   ]
  },
  {
   "cell_type": "code",
   "execution_count": 46,
   "id": "75441984",
   "metadata": {},
   "outputs": [],
   "source": [
    "#  Decision Trees\n",
    "def run_decisionTreesClassifier(features, target):    \n",
    "    features_train, features_test, target_train, target_test = train_test_split(features,target, random_state =0)\n",
    "    clf = DecisionTreeClassifier(max_leaf_nodes=3, random_state=0)\n",
    "    clf.fit(features_train, target_train)\n",
    "    predicts = clf.predict(features_test)\n",
    "    accuracy = accuracy_score(target_test, predicts)*100\n",
    "    print(\"Accuracy of Decision Trees Classifier:\", accuracy,\"%\")\n"
   ]
  },
  {
   "cell_type": "markdown",
   "id": "fdd911d3-07d1-4583-887b-747c270eab89",
   "metadata": {},
   "source": [
    "# Testing"
   ]
  },
  {
   "cell_type": "code",
   "execution_count": 49,
   "id": "700dbca1-5eb8-4d73-945d-fc4ee45b2322",
   "metadata": {},
   "outputs": [
    {
     "name": "stdout",
     "output_type": "stream",
     "text": [
      "Accuracy of Decision Trees Classifier: 94.75 %\n"
     ]
    }
   ],
   "source": [
    "random.seed(1)\n",
    "m = Main()\n",
    "#files is in the same directory\n",
    "m.loadfiles(\"winequality-red.csv\", \"winequality-white.csv\")\n",
    "\n",
    "# Decision Trees\n",
    "features = m.datasetR\n",
    "quality= np.transpose(m.datasetR)[11]\n",
    "run_decisionTreesClassifier(features ,quality)\n",
    "\n"
   ]
  },
  {
   "cell_type": "code",
   "execution_count": null,
   "id": "c0869b87",
   "metadata": {},
   "outputs": [],
   "source": []
  }
 ],
 "metadata": {
  "kernelspec": {
   "display_name": "Python 3",
   "language": "python",
   "name": "python3"
  },
  "language_info": {
   "codemirror_mode": {
    "name": "ipython",
    "version": 3
   },
   "file_extension": ".py",
   "mimetype": "text/x-python",
   "name": "python",
   "nbconvert_exporter": "python",
   "pygments_lexer": "ipython3",
   "version": "3.8.8"
  }
 },
 "nbformat": 4,
 "nbformat_minor": 5
}
