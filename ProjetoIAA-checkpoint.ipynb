{
 "cells": [
  {
   "cell_type": "markdown",
   "id": "27e4df0f-243a-4335-8259-89e63b167e9b",
   "metadata": {},
   "source": [
    "# Code\n"
   ]
  },
  {
   "cell_type": "code",
   "execution_count": 104,
   "id": "ac8a133e",
   "metadata": {},
   "outputs": [],
   "source": [
    "import math \n",
    "import pandas as pd\n",
    "import numpy as np\n",
    "import operator\n",
    "import matplotlib.pyplot as plt\n",
    "import statistics\n",
    "import timeit\n",
    "import random\n",
    "from sklearn.metrics import accuracy_score\n",
    "from sklearn.model_selection import train_test_split\n",
    "from sklearn.tree import DecisionTreeClassifier\n",
    "from sklearn.neural_network import MLPClassifier\n",
    "from sklearn.neighbors import KNeighborsClassifier\n",
    "import sklearn\n",
    "\n",
    "\n",
    "class Wine:\n",
    "#self.headers = ['fixed acidity', 'volatile acidity', 'citric acid', 'residual sugar', 'chlorides', 'free sulfur dioxide', 'total sulfur dioxide',\n",
    "                        #'density','pH','sulphates','alcohol','quality']\n",
    "    def __init__(self, data):\n",
    "        self.fixed_acidity = data[0]\n",
    "        self.volatile_acidity = data[1]\n",
    "        self.citric_acid = data[2]\n",
    "        self.residual_sugar = data[3]\n",
    "        self.chlorides = data[4]\n",
    "        self.free_sulfur_dioxide = data[5]\n",
    "        self.total_sulfur_dioxide = data[6]\n",
    "        self.density = data[7]\n",
    "        self.pH = data[8]\n",
    "        self.sulphates = data[9]\n",
    "        self.alcohol = data[10]\n",
    "        self.quality = None\n",
    "        \n",
    "        \n",
    "    def getQuality(self):\n",
    "        if self.quality in [0, 1, 2]:\n",
    "            return \"Mau\"\n",
    "        elif self.quality in [3, 4, 5]:\n",
    "            return \"Medio\"\n",
    "        elif self.quality in [6, 7, 8]:\n",
    "            return \"Bom\"\n",
    "        elif self.quality in [9, 10]:\n",
    "            return \"Excelente\"\n",
    "        \n",
    "class Main:  \n",
    "    \n",
    "    def __init__(self):\n",
    "        self.datasetW = None\n",
    "        self.datasetR = None\n",
    "        self.RedArray = []\n",
    "        self.WhiteArray = []\n",
    "        \n",
    "    def loadfiles(self, fileR, fileW):\n",
    "        self.datasetW = pd.read_csv(fileW, sep = ';')\n",
    "        self.datasetR = pd.read_csv(fileR, sep = ';')\n",
    "        \n",
    "    def loadWines(self):\n",
    "        \n",
    "         for i in range(len(self.datasetW)): \n",
    "            w = Wine(self.datasetW.iloc[i])\n",
    "            self.WhiteArray.append(w)\n",
    "        \n",
    "         for i in range(len(self.datasetR)): \n",
    "            r = Wine(self.datasetR.iloc[i])\n",
    "            self.RedArray.append(r)"
   ]
  },
  {
   "cell_type": "markdown",
   "id": "6eb4091d",
   "metadata": {},
   "source": [
    "### Supervised Learning Algorithms"
   ]
  },
  {
   "cell_type": "code",
   "execution_count": 105,
   "id": "75441984",
   "metadata": {},
   "outputs": [],
   "source": [
    "#labels is the quality(labels) and the rest are the features\n",
    "\n",
    "#  Decision Trees\n",
    "def decisionTreesClassifier(dataset, name):   \n",
    "    features = dataset.iloc[:, :-1].values\n",
    "    labels   = dataset.iloc[:, 11].values\n",
    "    features_train, features_test, labels_train, labels_test = train_test_split(features,labels, random_state =1)\n",
    "    clf = DecisionTreeClassifier(criterion ='entropy',max_leaf_nodes=3, random_state=0)\n",
    "    clf.fit(features_train, labels_train)\n",
    "    predicts = clf.predict(features_test)\n",
    "    accuracy = accuracy_score(labels_test, predicts)*100\n",
    "    print(name,\": Accuracy of Decision Trees Classifier:\", accuracy,\"%\")\n",
    "    tree.plot_tree(clf,feature_names = ['fixed acidity', 'volatile acidity', 'citric acid', 'residual sugar', 'chlorides', 'free sulfur dioxide', 'total sulfur dioxide','density','pH','sulphates','alcohol','quality'] )\n",
    "    plt.show()    \n",
    "\n",
    "# k-NN\n",
    "def knn(dataset, name):\n",
    "    knn = KNeighborsClassifier(n_neighbors=3)\n",
    "    features = dataset.iloc[:, :-1].values\n",
    "    labels   = dataset.iloc[:, 11].values\n",
    "    X_train, X_test, y_train, y_test = train_test_split(features, labels, random_state =1, test_size=0.3) # 70% training and 30% test\n",
    "\n",
    "    #Train the model using the training sets\n",
    "    knn.fit(X_train, y_train) \n",
    "\n",
    "    #Predict the response for test dataset\n",
    "    y_pred = knn.predict(X_test)\n",
    "    accuracy = accuracy_score(y_test, y_pred)*100\n",
    "    print(name,\": Accuracy of k-NN classifier:\", accuracy,\"%\")\n",
    "\n",
    "# Multi-layer perceptron\n",
    "def mlp(dataset, name):\n",
    "    X = dataset.iloc[:, :-1].values\n",
    "    y = dataset.iloc[:, 11].values\n",
    "    \n",
    "    X_train, X_test, y_train, y_test = train_test_split(X, y, stratify=y, random_state=1, test_size=0.3)\n",
    "    clf = MLPClassifier(random_state=1, max_iter=300).fit(X_train, y_train)\n",
    "   \n",
    "    predicts = clf.predict(X_test)\n",
    "    accuracy = accuracy_score(y_test, predicts)*100\n",
    "    \n",
    "    print(name,\": Accuracy of Multi-layer perceptron Classifier:\", accuracy,\"%\")\n",
    "    \n",
    "    \n"
   ]
  },
  {
   "cell_type": "markdown",
   "id": "dcefd631",
   "metadata": {},
   "source": [
    "###  Unsupervised learning algorithms"
   ]
  },
  {
   "cell_type": "code",
   "execution_count": null,
   "id": "d72ac003",
   "metadata": {},
   "outputs": [],
   "source": [
    "# k-Means\n",
    "\n",
    "# DBScan\n",
    "\n",
    "# Agglomerative hierarchical clustering"
   ]
  },
  {
   "cell_type": "markdown",
   "id": "fdd911d3-07d1-4583-887b-747c270eab89",
   "metadata": {},
   "source": [
    "# Testing"
   ]
  },
  {
   "cell_type": "code",
   "execution_count": 106,
   "id": "700dbca1-5eb8-4d73-945d-fc4ee45b2322",
   "metadata": {},
   "outputs": [
    {
     "name": "stdout",
     "output_type": "stream",
     "text": [
      "Red : Accuracy of Decision Trees Classifier: 56.99999999999999 %\n"
     ]
    },
    {
     "data": {
      "image/png": "[encoded data removed]",
      "text/plain": [
       "<Figure size 432x288 with 1 Axes>"
      ]
     },
     "metadata": {
      "needs_background": "light"
     },
     "output_type": "display_data"
    },
    {
     "name": "stdout",
     "output_type": "stream",
     "text": [
      "White : Accuracy of Decision Trees Classifier: 48.40816326530612 %\n"
     ]
    },
    {
     "data": {
      "image/png": "[encoded data removed]",
      "text/plain": [
       "<Figure size 432x288 with 1 Axes>"
      ]
     },
     "metadata": {
      "needs_background": "light"
     },
     "output_type": "display_data"
    },
    {
     "name": "stdout",
     "output_type": "stream",
     "text": [
      "Red : Accuracy of Multi-layer perceptron Classifier: 59.583333333333336 %\n",
      "White : Accuracy of Multi-layer perceptron Classifier: 53.40136054421769 %\n",
      "Red : Accuracy of k-NN classifier: 51.66666666666667 %\n",
      "White : Accuracy of k-NN classifier: 47.61904761904761 %\n"
     ]
    }
   ],
   "source": [
    "random.seed(1)\n",
    "m = Main()\n",
    "#files is in the same directory\n",
    "m.loadfiles(\"winequality-red.csv\", \"winequality-white.csv\")\n",
    "\n",
    "# Decision Trees\n",
    "\n",
    "decisionTreesClassifier(m.datasetR,\"Red\")\n",
    "decisionTreesClassifier(m.datasetW,\"White\")\n",
    "\n",
    "mlp(m.datasetR,\"Red\")\n",
    "mlp(m.datasetW,\"White\")\n",
    "\n",
    "knn(m.datasetR,\"Red\")\n",
    "knn(m.datasetW,\"White\")\n",
    "\n",
    "\n"
   ]
  }
 ],
 "metadata": {
  "kernelspec": {
   "display_name": "Python 3",
   "language": "python",
   "name": "python3"
  },
  "language_info": {
   "codemirror_mode": {
    "name": "ipython",
    "version": 3
   },
   "file_extension": ".py",
   "mimetype": "text/x-python",
   "name": "python",
   "nbconvert_exporter": "python",
   "pygments_lexer": "ipython3",
   "version": "3.8.8"
  }
 },
 "nbformat": 4,
 "nbformat_minor": 5
}
