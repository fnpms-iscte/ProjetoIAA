{
 "cells": [
  {
   "cell_type": "markdown",
   "id": "27e4df0f-243a-4335-8259-89e63b167e9b",
   "metadata": {},
   "source": [
    "# Code\n"
   ]
  },
  {
   "cell_type": "code",
   "execution_count": 11,
   "id": "ac8a133e",
   "metadata": {},
   "outputs": [],
   "source": [
    "import math \n",
    "import pandas as pd\n",
    "import numpy as np\n",
    "import operator\n",
    "import matplotlib.pyplot as plt\n",
    "import statistics\n",
    "import timeit\n",
    "import random\n",
    "\n",
    "\n",
    "class Wines():\n",
    "\n",
    "    def __init__(self):\n",
    "        self.headers = ['fixed acidity', 'volatile acidity', 'citric acid', 'residual sugar', 'chlorides', 'free sulfur dioxide', 'total sulfur dioxide',\n",
    "                        'density','pH','sulphates','alcohol','quality']\n",
    "        self.datasetW = None\n",
    "        self.datasetR = None\n",
    "        self.training_set = None\n",
    "        self.test_set = None\n",
    "        self.test_class = None\n",
    "        self.dev_class = None    \n",
    "    \n",
    "    \n",
    "    \n",
    "    def loadfiles(self, fileW, fileR):\n",
    "        self.datasetW = pd.read_csv(fileW, sep = ';', index_col=0)\n",
    "        self.datasetR = pd.read_csv(fileR, sep = ';', index_col=0)"
   ]
  },
  {
   "cell_type": "markdown",
   "id": "fdd911d3-07d1-4583-887b-747c270eab89",
   "metadata": {},
   "source": [
    "# Testing"
   ]
  },
  {
   "cell_type": "code",
   "execution_count": 12,
   "id": "700dbca1-5eb8-4d73-945d-fc4ee45b2322",
   "metadata": {},
   "outputs": [
    {
     "name": "stdout",
     "output_type": "stream",
     "text": [
      "               volatile acidity  citric acid  residual sugar  chlorides  \\\n",
      "fixed acidity                                                             \n",
      "7.4                       0.700         0.00             1.9      0.076   \n",
      "7.8                       0.880         0.00             2.6      0.098   \n",
      "7.8                       0.760         0.04             2.3      0.092   \n",
      "11.2                      0.280         0.56             1.9      0.075   \n",
      "7.4                       0.700         0.00             1.9      0.076   \n",
      "...                         ...          ...             ...        ...   \n",
      "6.2                       0.600         0.08             2.0      0.090   \n",
      "5.9                       0.550         0.10             2.2      0.062   \n",
      "6.3                       0.510         0.13             2.3      0.076   \n",
      "5.9                       0.645         0.12             2.0      0.075   \n",
      "6.0                       0.310         0.47             3.6      0.067   \n",
      "\n",
      "               free sulfur dioxide  total sulfur dioxide  density    pH  \\\n",
      "fixed acidity                                                             \n",
      "7.4                           11.0                  34.0  0.99780  3.51   \n",
      "7.8                           25.0                  67.0  0.99680  3.20   \n",
      "7.8                           15.0                  54.0  0.99700  3.26   \n",
      "11.2                          17.0                  60.0  0.99800  3.16   \n",
      "7.4                           11.0                  34.0  0.99780  3.51   \n",
      "...                            ...                   ...      ...   ...   \n",
      "6.2                           32.0                  44.0  0.99490  3.45   \n",
      "5.9                           39.0                  51.0  0.99512  3.52   \n",
      "6.3                           29.0                  40.0  0.99574  3.42   \n",
      "5.9                           32.0                  44.0  0.99547  3.57   \n",
      "6.0                           18.0                  42.0  0.99549  3.39   \n",
      "\n",
      "               sulphates  alcohol  quality  \n",
      "fixed acidity                               \n",
      "7.4                 0.56      9.4        5  \n",
      "7.8                 0.68      9.8        5  \n",
      "7.8                 0.65      9.8        5  \n",
      "11.2                0.58      9.8        6  \n",
      "7.4                 0.56      9.4        5  \n",
      "...                  ...      ...      ...  \n",
      "6.2                 0.58     10.5        5  \n",
      "5.9                 0.76     11.2        6  \n",
      "6.3                 0.75     11.0        6  \n",
      "5.9                 0.71     10.2        5  \n",
      "6.0                 0.66     11.0        6  \n",
      "\n",
      "[1599 rows x 11 columns]\n"
     ]
    }
   ],
   "source": [
    "random.seed(1)\n",
    "w = Wines()\n",
    "#files is in the same directory\n",
    "w.loadfiles(\"winequality-red.csv\", \"winequality-white.csv\")\n",
    "print(w.datasetW)"
   ]
  },
  {
   "cell_type": "code",
   "execution_count": null,
   "id": "9c4174d9-f46e-4a80-85c9-950e8b3d59a2",
   "metadata": {},
   "outputs": [],
   "source": []
  }
 ],
 "metadata": {
  "kernelspec": {
   "display_name": "Python 3 (ipykernel)",
   "language": "python",
   "name": "python3"
  },
  "language_info": {
   "codemirror_mode": {
    "name": "ipython",
    "version": 3
   },
   "file_extension": ".py",
   "mimetype": "text/x-python",
   "name": "python",
   "nbconvert_exporter": "python",
   "pygments_lexer": "ipython3",
   "version": "3.9.1"
  }
 },
 "nbformat": 4,
 "nbformat_minor": 5
}
